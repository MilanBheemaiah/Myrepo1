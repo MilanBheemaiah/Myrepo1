{
 "cells": [
  {
   "cell_type": "code",
   "execution_count": 1,
   "id": "c0648592",
   "metadata": {
    "execution": {
     "iopub.execute_input": "2023-09-02T10:34:10.468735Z",
     "iopub.status.busy": "2023-09-02T10:34:10.468159Z",
     "iopub.status.idle": "2023-09-02T10:34:11.410690Z",
     "shell.execute_reply": "2023-09-02T10:34:11.409585Z"
    },
    "papermill": {
     "duration": 0.957052,
     "end_time": "2023-09-02T10:34:11.413605",
     "exception": false,
     "start_time": "2023-09-02T10:34:10.456553",
     "status": "completed"
    },
    "tags": []
   },
   "outputs": [],
   "source": [
    "import numpy as np \n",
    "import pandas as pd \n",
    "import re\n",
    "import matplotlib.pyplot as plt \n",
    "import seaborn as sns\n",
    "from nltk.corpus import stopwords\n",
    "from nltk.stem.porter import PorterStemmer"
   ]
  },
  {
   "cell_type": "code",
   "execution_count": 2,
   "id": "11af503c",
   "metadata": {
    "execution": {
     "iopub.execute_input": "2023-09-02T10:34:11.435530Z",
     "iopub.status.busy": "2023-09-02T10:34:11.434759Z",
     "iopub.status.idle": "2023-09-02T10:34:11.739206Z",
     "shell.execute_reply": "2023-09-02T10:34:11.737845Z"
    },
    "papermill": {
     "duration": 0.318709,
     "end_time": "2023-09-02T10:34:11.742152",
     "exception": false,
     "start_time": "2023-09-02T10:34:11.423443",
     "status": "completed"
    },
    "tags": []
   },
   "outputs": [],
   "source": [
    "from sklearn.feature_extraction.text import TfidfVectorizer\n",
    "from sklearn.model_selection import train_test_split\n",
    "from sklearn.ensemble import RandomForestClassifier\n",
    "from sklearn.metrics import accuracy_score"
   ]
  },
  {
   "cell_type": "code",
   "execution_count": 3,
   "id": "55cec464",
   "metadata": {
    "execution": {
     "iopub.execute_input": "2023-09-02T10:34:11.763602Z",
     "iopub.status.busy": "2023-09-02T10:34:11.763166Z",
     "iopub.status.idle": "2023-09-02T10:34:11.774716Z",
     "shell.execute_reply": "2023-09-02T10:34:11.773261Z"
    },
    "papermill": {
     "duration": 0.025427,
     "end_time": "2023-09-02T10:34:11.777365",
     "exception": false,
     "start_time": "2023-09-02T10:34:11.751938",
     "status": "completed"
    },
    "tags": []
   },
   "outputs": [
    {
     "name": "stdout",
     "output_type": "stream",
     "text": [
      "['i', 'me', 'my', 'myself', 'we', 'our', 'ours', 'ourselves', 'you', \"you're\", \"you've\", \"you'll\", \"you'd\", 'your', 'yours', 'yourself', 'yourselves', 'he', 'him', 'his', 'himself', 'she', \"she's\", 'her', 'hers', 'herself', 'it', \"it's\", 'its', 'itself', 'they', 'them', 'their', 'theirs', 'themselves', 'what', 'which', 'who', 'whom', 'this', 'that', \"that'll\", 'these', 'those', 'am', 'is', 'are', 'was', 'were', 'be', 'been', 'being', 'have', 'has', 'had', 'having', 'do', 'does', 'did', 'doing', 'a', 'an', 'the', 'and', 'but', 'if', 'or', 'because', 'as', 'until', 'while', 'of', 'at', 'by', 'for', 'with', 'about', 'against', 'between', 'into', 'through', 'during', 'before', 'after', 'above', 'below', 'to', 'from', 'up', 'down', 'in', 'out', 'on', 'off', 'over', 'under', 'again', 'further', 'then', 'once', 'here', 'there', 'when', 'where', 'why', 'how', 'all', 'any', 'both', 'each', 'few', 'more', 'most', 'other', 'some', 'such', 'no', 'nor', 'not', 'only', 'own', 'same', 'so', 'than', 'too', 'very', 's', 't', 'can', 'will', 'just', 'don', \"don't\", 'should', \"should've\", 'now', 'd', 'll', 'm', 'o', 're', 've', 'y', 'ain', 'aren', \"aren't\", 'couldn', \"couldn't\", 'didn', \"didn't\", 'doesn', \"doesn't\", 'hadn', \"hadn't\", 'hasn', \"hasn't\", 'haven', \"haven't\", 'isn', \"isn't\", 'ma', 'mightn', \"mightn't\", 'mustn', \"mustn't\", 'needn', \"needn't\", 'shan', \"shan't\", 'shouldn', \"shouldn't\", 'wasn', \"wasn't\", 'weren', \"weren't\", 'won', \"won't\", 'wouldn', \"wouldn't\"]\n"
     ]
    }
   ],
   "source": [
    "# printing stopwords in English\n",
    "print(stopwords.words('english'))"
   ]
  },
  {
   "cell_type": "code",
   "execution_count": 4,
   "id": "821bfc39",
   "metadata": {
    "execution": {
     "iopub.execute_input": "2023-09-02T10:34:11.801799Z",
     "iopub.status.busy": "2023-09-02T10:34:11.801356Z",
     "iopub.status.idle": "2023-09-02T10:34:18.343892Z",
     "shell.execute_reply": "2023-09-02T10:34:18.342426Z"
    },
    "papermill": {
     "duration": 6.557221,
     "end_time": "2023-09-02T10:34:18.346803",
     "exception": false,
     "start_time": "2023-09-02T10:34:11.789582",
     "status": "completed"
    },
    "tags": []
   },
   "outputs": [],
   "source": [
    "\n",
    "# loading the dataset\n",
    "news_dataset = pd.read_csv('WELFake_Dataset.csv')"
   ]
  },
  {
   "cell_type": "code",
   "execution_count": 5,
   "id": "b29672d2",
   "metadata": {
    "execution": {
     "iopub.execute_input": "2023-09-02T10:34:18.368529Z",
     "iopub.status.busy": "2023-09-02T10:34:18.368130Z",
     "iopub.status.idle": "2023-09-02T10:34:18.392189Z",
     "shell.execute_reply": "2023-09-02T10:34:18.390948Z"
    },
    "papermill": {
     "duration": 0.03808,
     "end_time": "2023-09-02T10:34:18.394777",
     "exception": false,
     "start_time": "2023-09-02T10:34:18.356697",
     "status": "completed"
    },
    "tags": []
   },
   "outputs": [
    {
     "data": {
      "text/html": [
       "<div>\n",
       "<style scoped>\n",
       "    .dataframe tbody tr th:only-of-type {\n",
       "        vertical-align: middle;\n",
       "    }\n",
       "\n",
       "    .dataframe tbody tr th {\n",
       "        vertical-align: top;\n",
       "    }\n",
       "\n",
       "    .dataframe thead th {\n",
       "        text-align: right;\n",
       "    }\n",
       "</style>\n",
       "<table border=\"1\" class=\"dataframe\">\n",
       "  <thead>\n",
       "    <tr style=\"text-align: right;\">\n",
       "      <th></th>\n",
       "      <th>Unnamed: 0</th>\n",
       "      <th>title</th>\n",
       "      <th>text</th>\n",
       "      <th>label</th>\n",
       "    </tr>\n",
       "  </thead>\n",
       "  <tbody>\n",
       "    <tr>\n",
       "      <th>0</th>\n",
       "      <td>0</td>\n",
       "      <td>LAW ENFORCEMENT ON HIGH ALERT Following Threat...</td>\n",
       "      <td>No comment is expected from Barack Obama Membe...</td>\n",
       "      <td>1</td>\n",
       "    </tr>\n",
       "    <tr>\n",
       "      <th>1</th>\n",
       "      <td>1</td>\n",
       "      <td>NaN</td>\n",
       "      <td>Did they post their votes for Hillary already?</td>\n",
       "      <td>1</td>\n",
       "    </tr>\n",
       "    <tr>\n",
       "      <th>2</th>\n",
       "      <td>2</td>\n",
       "      <td>UNBELIEVABLE! OBAMA’S ATTORNEY GENERAL SAYS MO...</td>\n",
       "      <td>Now, most of the demonstrators gathered last ...</td>\n",
       "      <td>1</td>\n",
       "    </tr>\n",
       "    <tr>\n",
       "      <th>3</th>\n",
       "      <td>3</td>\n",
       "      <td>Bobby Jindal, raised Hindu, uses story of Chri...</td>\n",
       "      <td>A dozen politically active pastors came here f...</td>\n",
       "      <td>0</td>\n",
       "    </tr>\n",
       "    <tr>\n",
       "      <th>4</th>\n",
       "      <td>4</td>\n",
       "      <td>SATAN 2: Russia unvelis an image of its terrif...</td>\n",
       "      <td>The RS-28 Sarmat missile, dubbed Satan 2, will...</td>\n",
       "      <td>1</td>\n",
       "    </tr>\n",
       "  </tbody>\n",
       "</table>\n",
       "</div>"
      ],
      "text/plain": [
       "   Unnamed: 0                                              title  \\\n",
       "0           0  LAW ENFORCEMENT ON HIGH ALERT Following Threat...   \n",
       "1           1                                                NaN   \n",
       "2           2  UNBELIEVABLE! OBAMA’S ATTORNEY GENERAL SAYS MO...   \n",
       "3           3  Bobby Jindal, raised Hindu, uses story of Chri...   \n",
       "4           4  SATAN 2: Russia unvelis an image of its terrif...   \n",
       "\n",
       "                                                text  label  \n",
       "0  No comment is expected from Barack Obama Membe...      1  \n",
       "1     Did they post their votes for Hillary already?      1  \n",
       "2   Now, most of the demonstrators gathered last ...      1  \n",
       "3  A dozen politically active pastors came here f...      0  \n",
       "4  The RS-28 Sarmat missile, dubbed Satan 2, will...      1  "
      ]
     },
     "execution_count": 5,
     "metadata": {},
     "output_type": "execute_result"
    }
   ],
   "source": [
    "# print the first 5 rows of the dataset\n",
    "news_dataset.head()"
   ]
  },
  {
   "cell_type": "code",
   "execution_count": 7,
   "id": "7c5f967a",
   "metadata": {
    "execution": {
     "iopub.execute_input": "2023-09-02T10:34:18.418738Z",
     "iopub.status.busy": "2023-09-02T10:34:18.418058Z",
     "iopub.status.idle": "2023-09-02T10:34:18.454385Z",
     "shell.execute_reply": "2023-09-02T10:34:18.453186Z"
    },
    "papermill": {
     "duration": 0.051486,
     "end_time": "2023-09-02T10:34:18.456944",
     "exception": false,
     "start_time": "2023-09-02T10:34:18.405458",
     "status": "completed"
    },
    "tags": []
   },
   "outputs": [
    {
     "data": {
      "text/plain": [
       "Unnamed: 0      0\n",
       "title         558\n",
       "text           39\n",
       "label           0\n",
       "dtype: int64"
      ]
     },
     "execution_count": 7,
     "metadata": {},
     "output_type": "execute_result"
    }
   ],
   "source": [
    "# counting the number of missing valuesin the dataset\n",
    "news_dataset.isnull().sum()"
   ]
  },
  {
   "cell_type": "code",
   "execution_count": 8,
   "id": "c620d539",
   "metadata": {
    "execution": {
     "iopub.execute_input": "2023-09-02T10:34:18.479424Z",
     "iopub.status.busy": "2023-09-02T10:34:18.478963Z",
     "iopub.status.idle": "2023-09-02T10:34:18.519484Z",
     "shell.execute_reply": "2023-09-02T10:34:18.518220Z"
    },
    "papermill": {
     "duration": 0.054988,
     "end_time": "2023-09-02T10:34:18.522250",
     "exception": false,
     "start_time": "2023-09-02T10:34:18.467262",
     "status": "completed"
    },
    "tags": []
   },
   "outputs": [
    {
     "name": "stdout",
     "output_type": "stream",
     "text": [
      "Number of rows: 72134\n",
      "Number of columns: 4\n"
     ]
    }
   ],
   "source": [
    "# replacing the null values with empty strings\n",
    "news_dataset = news_dataset.fillna('')\n",
    "print(\"Number of rows:\", news_dataset.shape[0])\n",
    "print(\"Number of columns:\", news_dataset.shape[1])"
   ]
  },
  {
   "cell_type": "code",
   "execution_count": 9,
   "id": "9c28f545",
   "metadata": {
    "execution": {
     "iopub.execute_input": "2023-09-02T10:34:18.544941Z",
     "iopub.status.busy": "2023-09-02T10:34:18.544530Z",
     "iopub.status.idle": "2023-09-02T10:34:18.555844Z",
     "shell.execute_reply": "2023-09-02T10:34:18.554564Z"
    },
    "papermill": {
     "duration": 0.026044,
     "end_time": "2023-09-02T10:34:18.558669",
     "exception": false,
     "start_time": "2023-09-02T10:34:18.532625",
     "status": "completed"
    },
    "tags": []
   },
   "outputs": [
    {
     "name": "stdout",
     "output_type": "stream",
     "text": [
      "0        No comment is expected from Barack Obama Membe...\n",
      "1           Did they post their votes for Hillary already?\n",
      "2         Now, most of the demonstrators gathered last ...\n",
      "3        A dozen politically active pastors came here f...\n",
      "4        The RS-28 Sarmat missile, dubbed Satan 2, will...\n",
      "                               ...                        \n",
      "72129    WASHINGTON (Reuters) - Hackers believed to be ...\n",
      "72130    You know, because in fantasyland Republicans n...\n",
      "72131    Migrants Refuse To Leave Train At Refugee Camp...\n",
      "72132    MEXICO CITY (Reuters) - Donald Trump’s combati...\n",
      "72133    Goldman Sachs Endorses Hillary Clinton For Pre...\n",
      "Name: content, Length: 72134, dtype: object\n"
     ]
    }
   ],
   "source": [
    "news_dataset['content'] = news_dataset['text']\n",
    "print(news_dataset['content'])"
   ]
  },
  {
   "cell_type": "code",
   "execution_count": 10,
   "id": "0622008c",
   "metadata": {
    "execution": {
     "iopub.execute_input": "2023-09-02T10:34:18.582147Z",
     "iopub.status.busy": "2023-09-02T10:34:18.580976Z",
     "iopub.status.idle": "2023-09-02T10:34:18.606064Z",
     "shell.execute_reply": "2023-09-02T10:34:18.604889Z"
    },
    "papermill": {
     "duration": 0.039354,
     "end_time": "2023-09-02T10:34:18.608688",
     "exception": false,
     "start_time": "2023-09-02T10:34:18.569334",
     "status": "completed"
    },
    "tags": []
   },
   "outputs": [],
   "source": [
    "# separating the data and the label\n",
    "X = news_dataset.drop(columns=['label'],axis=1)\n",
    "Y = news_dataset['label']"
   ]
  },
  {
   "cell_type": "code",
   "execution_count": 11,
   "id": "49aa3706",
   "metadata": {
    "execution": {
     "iopub.execute_input": "2023-09-02T10:34:18.631528Z",
     "iopub.status.busy": "2023-09-02T10:34:18.631130Z",
     "iopub.status.idle": "2023-09-02T10:34:18.636035Z",
     "shell.execute_reply": "2023-09-02T10:34:18.634819Z"
    },
    "papermill": {
     "duration": 0.0192,
     "end_time": "2023-09-02T10:34:18.638267",
     "exception": false,
     "start_time": "2023-09-02T10:34:18.619067",
     "status": "completed"
    },
    "tags": []
   },
   "outputs": [],
   "source": [
    "# Stemming: It is the process of reducing a word to its root word.(remove␣suffix and prefix)\n",
    "port_stem = PorterStemmer()"
   ]
  },
  {
   "cell_type": "code",
   "execution_count": 12,
   "id": "c35f9e75",
   "metadata": {
    "execution": {
     "iopub.execute_input": "2023-09-02T10:34:18.661524Z",
     "iopub.status.busy": "2023-09-02T10:34:18.660472Z",
     "iopub.status.idle": "2023-09-02T10:34:18.667455Z",
     "shell.execute_reply": "2023-09-02T10:34:18.666579Z"
    },
    "papermill": {
     "duration": 0.021125,
     "end_time": "2023-09-02T10:34:18.669871",
     "exception": false,
     "start_time": "2023-09-02T10:34:18.648746",
     "status": "completed"
    },
    "tags": []
   },
   "outputs": [],
   "source": [
    "def stemming(content):\n",
    "    stemmed_content = re.sub('[^a-zA-Z]',' ',content)\n",
    "    stemmed_content = stemmed_content.lower()\n",
    "    stemmed_content = stemmed_content.split()\n",
    "    stemmed_content = [port_stem.stem(word) for word in stemmed_content if not word in stopwords.words('english')]\n",
    "    stemmed_content = ' '.join(stemmed_content)\n",
    "    return stemmed_content"
   ]
  },
  {
   "cell_type": "code",
   "execution_count": null,
   "id": "1b98bee2",
   "metadata": {
    "execution": {
     "iopub.execute_input": "2023-09-02T10:34:18.692953Z",
     "iopub.status.busy": "2023-09-02T10:34:18.692119Z",
     "iopub.status.idle": "2023-09-02T12:23:44.351545Z",
     "shell.execute_reply": "2023-09-02T12:23:44.350659Z"
    },
    "papermill": {
     "duration": 6565.685435,
     "end_time": "2023-09-02T12:23:44.365727",
     "exception": false,
     "start_time": "2023-09-02T10:34:18.680292",
     "status": "completed"
    },
    "tags": []
   },
   "outputs": [],
   "source": [
    "news_dataset['content'] = news_dataset['content'].apply(stemming)\n",
    "\n",
    "print(news_dataset['content'])"
   ]
  },
  {
   "cell_type": "code",
   "execution_count": null,
   "id": "962dded8",
   "metadata": {
    "execution": {
     "iopub.execute_input": "2023-09-02T12:23:44.389183Z",
     "iopub.status.busy": "2023-09-02T12:23:44.388198Z",
     "iopub.status.idle": "2023-09-02T12:23:44.398709Z",
     "shell.execute_reply": "2023-09-02T12:23:44.397592Z"
    },
    "papermill": {
     "duration": 0.025016,
     "end_time": "2023-09-02T12:23:44.401248",
     "exception": false,
     "start_time": "2023-09-02T12:23:44.376232",
     "status": "completed"
    },
    "tags": []
   },
   "outputs": [],
   "source": [
    "#separating the data and label\n",
    "X = news_dataset['content'].values\n",
    "Y = news_dataset['label'].values"
   ]
  },
  {
   "cell_type": "code",
   "execution_count": null,
   "id": "67a6befc",
   "metadata": {
    "execution": {
     "iopub.execute_input": "2023-09-02T12:23:44.424293Z",
     "iopub.status.busy": "2023-09-02T12:23:44.423619Z",
     "iopub.status.idle": "2023-09-02T12:24:39.544540Z",
     "shell.execute_reply": "2023-09-02T12:24:39.543179Z"
    },
    "papermill": {
     "duration": 55.136079,
     "end_time": "2023-09-02T12:24:39.547813",
     "exception": false,
     "start_time": "2023-09-02T12:23:44.411734",
     "status": "completed"
    },
    "tags": []
   },
   "outputs": [],
   "source": [
    "# converting the textual data to numerical data\n",
    "vectorizer = TfidfVectorizer()\n",
    "vectorizer.fit(X)\n",
    "X = vectorizer.transform(X)"
   ]
  },
  {
   "cell_type": "code",
   "execution_count": null,
   "id": "f1237c0f",
   "metadata": {
    "execution": {
     "iopub.execute_input": "2023-09-02T12:24:39.571123Z",
     "iopub.status.busy": "2023-09-02T12:24:39.570694Z",
     "iopub.status.idle": "2023-09-02T12:24:39.682685Z",
     "shell.execute_reply": "2023-09-02T12:24:39.681552Z"
    },
    "papermill": {
     "duration": 0.126741,
     "end_time": "2023-09-02T12:24:39.685446",
     "exception": false,
     "start_time": "2023-09-02T12:24:39.558705",
     "status": "completed"
    },
    "tags": []
   },
   "outputs": [],
   "source": [
    "# Splitting the dataset to training & test data\n",
    "X_train, X_test, Y_train, Y_test = train_test_split(X, Y, test_size = 0.2,stratify=Y, random_state=42)"
   ]
  },
  {
   "cell_type": "code",
   "execution_count": null,
   "id": "a5d69650",
   "metadata": {
    "execution": {
     "iopub.execute_input": "2023-09-02T12:24:39.708829Z",
     "iopub.status.busy": "2023-09-02T12:24:39.708448Z",
     "iopub.status.idle": "2023-09-02T12:31:13.589608Z",
     "shell.execute_reply": "2023-09-02T12:31:13.588419Z"
    },
    "papermill": {
     "duration": 393.896239,
     "end_time": "2023-09-02T12:31:13.592677",
     "exception": false,
     "start_time": "2023-09-02T12:24:39.696438",
     "status": "completed"
    },
    "tags": []
   },
   "outputs": [],
   "source": [
    "clf_rf=RandomForestClassifier()\n",
    "clf_rf=clf_rf.fit(X_train, Y_train)"
   ]
  },
  {
   "cell_type": "code",
   "execution_count": 18,
   "id": "e2290d58",
   "metadata": {
    "execution": {
     "iopub.execute_input": "2023-09-02T12:31:13.616842Z",
     "iopub.status.busy": "2023-09-02T12:31:13.616389Z",
     "iopub.status.idle": "2023-09-02T12:31:15.760573Z",
     "shell.execute_reply": "2023-09-02T12:31:15.759072Z"
    },
    "papermill": {
     "duration": 2.159141,
     "end_time": "2023-09-02T12:31:15.763102",
     "exception": false,
     "start_time": "2023-09-02T12:31:13.603961",
     "status": "completed"
    },
    "tags": []
   },
   "outputs": [
    {
     "name": "stdout",
     "output_type": "stream",
     "text": [
      "Accuracy score of the test data :  0.927\n"
     ]
    }
   ],
   "source": [
    "predictions_rf = clf_rf.predict(X_test)\n",
    "test_data_accuracy_rf = accuracy_score(predictions_rf, Y_test)\n",
    "test_data_accuracy_rf = round(test_data_accuracy_rf, 3)\n",
    "print('Accuracy score of the test data : ', test_data_accuracy_rf)"
   ]
  },
  {
   "cell_type": "code",
   "execution_count": 19,
   "id": "3bcece9e",
   "metadata": {
    "execution": {
     "iopub.execute_input": "2023-09-02T12:31:15.787688Z",
     "iopub.status.busy": "2023-09-02T12:31:15.786983Z",
     "iopub.status.idle": "2023-09-02T12:31:15.792497Z",
     "shell.execute_reply": "2023-09-02T12:31:15.791406Z"
    },
    "papermill": {
     "duration": 0.020816,
     "end_time": "2023-09-02T12:31:15.794970",
     "exception": false,
     "start_time": "2023-09-02T12:31:15.774154",
     "status": "completed"
    },
    "tags": []
   },
   "outputs": [],
   "source": [
    "from sklearn.metrics import classification_report\n",
    "from sklearn.metrics import confusion_matrix"
   ]
  },
  {
   "cell_type": "code",
   "execution_count": 20,
   "id": "eb32f992",
   "metadata": {
    "execution": {
     "iopub.execute_input": "2023-09-02T12:31:15.819141Z",
     "iopub.status.busy": "2023-09-02T12:31:15.818437Z",
     "iopub.status.idle": "2023-09-02T12:31:15.865625Z",
     "shell.execute_reply": "2023-09-02T12:31:15.864062Z"
    },
    "papermill": {
     "duration": 0.062535,
     "end_time": "2023-09-02T12:31:15.868345",
     "exception": false,
     "start_time": "2023-09-02T12:31:15.805810",
     "status": "completed"
    },
    "tags": []
   },
   "outputs": [
    {
     "name": "stdout",
     "output_type": "stream",
     "text": [
      "              precision    recall  f1-score   support\n",
      "\n",
      "           0       0.94      0.91      0.92      7006\n",
      "           1       0.92      0.94      0.93      7421\n",
      "\n",
      "    accuracy                           0.93     14427\n",
      "   macro avg       0.93      0.93      0.93     14427\n",
      "weighted avg       0.93      0.93      0.93     14427\n",
      "\n",
      "[[6359  647]\n",
      " [ 409 7012]]\n"
     ]
    }
   ],
   "source": [
    "print(classification_report(Y_test, predictions_rf))\n",
    "mat=confusion_matrix(Y_test, predictions_rf)\n",
    "print(confusion_matrix(Y_test, predictions_rf))"
   ]
  },
  {
   "cell_type": "code",
   "execution_count": 21,
   "id": "2ccf5c2d",
   "metadata": {
    "execution": {
     "iopub.execute_input": "2023-09-02T12:31:15.893673Z",
     "iopub.status.busy": "2023-09-02T12:31:15.893012Z",
     "iopub.status.idle": "2023-09-02T12:31:15.914722Z",
     "shell.execute_reply": "2023-09-02T12:31:15.913096Z"
    },
    "papermill": {
     "duration": 0.03711,
     "end_time": "2023-09-02T12:31:15.917325",
     "exception": false,
     "start_time": "2023-09-02T12:31:15.880215",
     "status": "completed"
    },
    "tags": []
   },
   "outputs": [
    {
     "name": "stdout",
     "output_type": "stream",
     "text": [
      "[1]\n",
      "The news is Fake\n"
     ]
    }
   ],
   "source": [
    "# Making a Predictive System\n",
    "X_new = X_test[3]\n",
    "prediction = clf_rf.predict(X_new)\n",
    "print(prediction)\n",
    "if (prediction[0]=='REAL'):\n",
    "    print('The news is Real')\n",
    "else:\n",
    "    print('The news is Fake')"
   ]
  },
  {
   "cell_type": "code",
   "execution_count": 22,
   "id": "bd1c38cd",
   "metadata": {
    "execution": {
     "iopub.execute_input": "2023-09-02T12:31:15.942212Z",
     "iopub.status.busy": "2023-09-02T12:31:15.941745Z",
     "iopub.status.idle": "2023-09-02T12:31:15.946779Z",
     "shell.execute_reply": "2023-09-02T12:31:15.945753Z"
    },
    "papermill": {
     "duration": 0.020131,
     "end_time": "2023-09-02T12:31:15.949116",
     "exception": false,
     "start_time": "2023-09-02T12:31:15.928985",
     "status": "completed"
    },
    "tags": []
   },
   "outputs": [],
   "source": [
    "classes = ['Real','Fake']"
   ]
  },
  {
   "cell_type": "code",
   "execution_count": 23,
   "id": "3cf74d24",
   "metadata": {
    "execution": {
     "iopub.execute_input": "2023-09-02T12:31:15.973695Z",
     "iopub.status.busy": "2023-09-02T12:31:15.973297Z",
     "iopub.status.idle": "2023-09-02T12:31:16.264221Z",
     "shell.execute_reply": "2023-09-02T12:31:16.262918Z"
    },
    "papermill": {
     "duration": 0.306383,
     "end_time": "2023-09-02T12:31:16.267008",
     "exception": false,
     "start_time": "2023-09-02T12:31:15.960625",
     "status": "completed"
    },
    "tags": []
   },
   "outputs": [
    {
     "data": {
      "image/png": "[encoded data removed]",
      "text/plain": [
       "<Figure size 500x500 with 1 Axes>"
      ]
     },
     "metadata": {},
     "output_type": "display_data"
    }
   ],
   "source": [
    "cm_df = pd.DataFrame(mat, index = classes,columns = classes)\n",
    "plt.figure(figsize = (5,5))\n",
    "sns.set(font_scale=1.2)\n",
    "sns.heatmap(cm_df, annot = True,cbar=False,linewidth=2,fmt='d',cmap=\"GnBu\")\n",
    "plt.title('Confusion Matrix for Random Forest Classifier')\n",
    "plt.ylabel('Original Values')\n",
    "plt.xlabel('Predicted Values')\n",
    "plt.savefig('Cm_rf.png')\n",
    "plt.show()"
   ]
  },
  {
   "cell_type": "code",
   "execution_count": null,
   "id": "7173284d",
   "metadata": {
    "papermill": {
     "duration": 0.012213,
     "end_time": "2023-09-02T12:31:16.291881",
     "exception": false,
     "start_time": "2023-09-02T12:31:16.279668",
     "status": "completed"
    },
    "tags": []
   },
   "outputs": [],
   "source": []
  },
  {
   "cell_type": "code",
   "execution_count": 24,
   "id": "11dd79eb",
   "metadata": {
    "execution": {
     "iopub.execute_input": "2023-09-02T12:31:16.318280Z",
     "iopub.status.busy": "2023-09-02T12:31:16.317837Z",
     "iopub.status.idle": "2023-09-02T12:31:18.674290Z",
     "shell.execute_reply": "2023-09-02T12:31:18.673104Z"
    },
    "papermill": {
     "duration": 2.373233,
     "end_time": "2023-09-02T12:31:18.677507",
     "exception": false,
     "start_time": "2023-09-02T12:31:16.304274",
     "status": "completed"
    },
    "tags": []
   },
   "outputs": [
    {
     "data": {
      "text/plain": [
       "['vectorizer.pkl']"
      ]
     },
     "execution_count": 24,
     "metadata": {},
     "output_type": "execute_result"
    }
   ],
   "source": [
    "#joblib library for using the model later for further use\n",
    "import joblib\n",
    "joblib.dump(clf_rf, 'model.pkl')\n",
    "joblib.dump(vectorizer, 'vectorizer.pkl')"
   ]
  }
 ],
 "metadata": {
  "kernelspec": {
   "display_name": "Python 3 (ipykernel)",
   "language": "python",
   "name": "python3"
  },
  "language_info": {
   "codemirror_mode": {
    "name": "ipython",
    "version": 3
   },
   "file_extension": ".py",
   "mimetype": "text/x-python",
   "name": "python",
   "nbconvert_exporter": "python",
   "pygments_lexer": "ipython3",
   "version": "3.9.7"
  },
  "papermill": {
   "default_parameters": {},
   "duration": 7036.43211,
   "end_time": "2023-09-02T12:31:19.530058",
   "environment_variables": {},
   "exception": null,
   "input_path": "__notebook__.ipynb",
   "output_path": "__notebook__.ipynb",
   "parameters": {},
   "start_time": "2023-09-02T10:34:03.097948",
   "version": "2.4.0"
  }
 },
 "nbformat": 4,
 "nbformat_minor": 5
}
